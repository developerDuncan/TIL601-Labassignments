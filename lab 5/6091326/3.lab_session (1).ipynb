{
 "cells": [
  {
   "cell_type": "markdown",
   "id": "ba7a5dd8",
   "metadata": {},
   "source": [
    "Import relevant packages here."
   ]
  },
  {
   "cell_type": "code",
   "execution_count": 4,
   "id": "6a8838bb",
   "metadata": {},
   "outputs": [],
   "source": [
    "import matplotlib.pyplot as plt\n",
    "import pandas as pd\n"
   ]
  },
  {
   "cell_type": "markdown",
   "id": "1725519c",
   "metadata": {},
   "source": [
    "Load the data and verify it is loaded correctly.\n",
    "<ul>\n",
    "    <li>Print it (head, tail, or specific rows, choose a sensible number of rows).</li>\n",
    "    <li>Compare it to the source file.</li>\n",
    "<ul>"
   ]
  },
  {
   "cell_type": "code",
   "execution_count": 11,
   "id": "aa4d5e37",
   "metadata": {},
   "outputs": [
    {
     "name": "stdout",
     "output_type": "stream",
     "text": [
      "         dv        s         a\n",
      "0 -0.743240  53.5427  1.242570\n",
      "1 -0.557230  53.6120  1.777920\n",
      "2 -0.454769  53.6541  0.544107\n",
      "3 -0.525396  53.7030 -0.294755\n",
      "4 -0.601285  53.7592 -0.290961\n",
      "            dv        s         a\n",
      "73903  5.19874  116.139 -0.795081\n",
      "73904  5.10428  115.627 -0.314263\n",
      "73905  5.13764  115.118  0.232283\n",
      "73906  5.15348  114.599  0.262078\n",
      "73907  5.25868  113.112 -0.612440\n"
     ]
    }
   ],
   "source": [
    "data = pd.read_csv(r'C:\\Users\\omniq\\Desktop\\2025 period 1\\TIL6022\\TIL6022 TIL Python Programming (202425 Q1) - 942024 - 1116 AM\\Assignment 5\\cf_data.csv')\n",
    "print(data.head())\n",
    "print(data.tail())"
   ]
  },
  {
   "cell_type": "markdown",
   "id": "0f6d5753",
   "metadata": {},
   "source": [
    "In the ensuing, you will use <code>numpy</code>.\n",
    "\n",
    "Let's create a grid for the values to plot. But first create <b>two arrays named <code>dv</code> and <code>s</code></b> using <code>numpy.linspace</code> that hold the grid values at the relevant indices in their respective dimension of the grid.\n",
    "\n",
    "Create a <b>grid named <code>a</code></b> with zeros using <code>numpy.zeros</code> in to which calculated acceleration values can be stored.<br>\n",
    "<br>\n",
    "Let the grid span:<br>\n",
    "<ul>\n",
    "    <li>Speed difference <code>dv</code> [m/s]\n",
    "        <ul>\n",
    "            <li>From -10 till 10</li>\n",
    "            <li>With 41 evenly spaced values</li>\n",
    "        </ul>\n",
    "    </li>\n",
    "    <li>Headway <code>s</code> [m]\n",
    "        <ul>\n",
    "            <li>From 0 till 200</li>\n",
    "            <li>With 21 evenly spaced values</li>\n",
    "        </ul>\n",
    "    </li>\n",
    "</ul>"
   ]
  },
  {
   "cell_type": "code",
   "execution_count": 6,
   "id": "2d52276f",
   "metadata": {},
   "outputs": [
    {
     "name": "stdout",
     "output_type": "stream",
     "text": [
      "dv array: [-10.   -9.5  -9.   -8.5  -8.   -7.5  -7.   -6.5  -6.   -5.5  -5.   -4.5\n",
      "  -4.   -3.5  -3.   -2.5  -2.   -1.5  -1.   -0.5   0.    0.5   1.    1.5\n",
      "   2.    2.5   3.    3.5   4.    4.5   5.    5.5   6.    6.5   7.    7.5\n",
      "   8.    8.5   9.    9.5  10. ]\n",
      "s array: [  0.  10.  20.  30.  40.  50.  60.  70.  80.  90. 100. 110. 120. 130.\n",
      " 140. 150. 160. 170. 180. 190. 200.]\n",
      "Grid shape: (21, 41)\n"
     ]
    }
   ],
   "source": [
    "import numpy as np\n",
    "\n",
    "dv = np.linspace(-10, 10, 41)  # Speed difference: from -10 to 10 with 41 evenly spaced values\n",
    "s = np.linspace(0, 200, 21)    # Headway: from 0 to 200 with 21 evenly spaced values\n",
    "\n",
    "# Create the grid a to store calculated acceleration values\n",
    "a = np.zeros((len(s), len(dv)))  # Grid of zeros with dimensions [21, 41] corresponding to s and dv\n",
    "\n",
    "# To verify\n",
    "print(\"dv array:\", dv)\n",
    "print(\"s array:\", s)\n",
    "print(\"Grid shape:\", a.shape)\n"
   ]
  },
  {
   "cell_type": "markdown",
   "id": "fedab6cf",
   "metadata": {},
   "source": [
    "Create from the imported data 3 separate <code>numpy</code> arrays for each column <code>dv</code>, <code>s</code> and <code>a</code>. (We do this for speed reasons later.)\n",
    "<ul>\n",
    "    <li>Make sure to name them differently from the arrays that belong to the grid as above.</li>\n",
    "    <li>You can access the data of each column in a <code>DataFrame</code> using <code>data.xxx</code> where <code>xxx</code> is the column name (not as a string).</li>\n",
    "    <li>Use the method <code>to_numpy()</code> to convert a column to a <code>numpy</code> array.</li>\n",
    "</ul>"
   ]
  },
  {
   "cell_type": "code",
   "execution_count": 7,
   "id": "1058fc26",
   "metadata": {},
   "outputs": [],
   "source": [
    "DV = data.dv.to_numpy()\n",
    "S = data.s.to_numpy()\n",
    "A = data.a.to_numpy() \n"
   ]
  },
  {
   "cell_type": "markdown",
   "id": "bbf1585a",
   "metadata": {},
   "source": [
    "Create an algorithm that calculates all the acceleration values and stores them in the grid. The algorithm is described visually in the last part of the lecture. At each grid point, it calculates a weighted mean of all measurements. The weights are given by an exponential function, based on the 'distance' between the grid point, and the measurement values of <code>dv</code> and <code>s</code>. To get you started, how many <code>for</code>-loops do you need?<br>\n",
    "<br>\n",
    "For this you will need <code>math</code>.<br>\n",
    "Use an <i>upsilon</i> of 1.5m/s and a <i>sigma</i> of 30m.<br>\n",
    "<br>\n",
    "<b>Warning:</b> This calculation may take some time. So:\n",
    "<ul>\n",
    "    <li>Print a line for each iteration of the outer-most <code>for</code>-loop that shows you the progress.</li>\n",
    "    <li>Test you code by running it only on the first 50 measurements of the data.</li>\n",
    "</ul>"
   ]
  },
  {
   "cell_type": "code",
   "execution_count": 9,
   "id": "676dd33f",
   "metadata": {},
   "outputs": [
    {
     "name": "stdout",
     "output_type": "stream",
     "text": [
      "Calculating for headway s[0]: 0.0 m\n",
      "Calculating for headway s[1]: 10.0 m\n",
      "Calculating for headway s[2]: 20.0 m\n",
      "Calculating for headway s[3]: 30.0 m\n",
      "Calculating for headway s[4]: 40.0 m\n",
      "Calculating for headway s[5]: 50.0 m\n",
      "Calculating for headway s[6]: 60.0 m\n",
      "Calculating for headway s[7]: 70.0 m\n",
      "Calculating for headway s[8]: 80.0 m\n",
      "Calculating for headway s[9]: 90.0 m\n",
      "Calculating for headway s[10]: 100.0 m\n",
      "Calculating for headway s[11]: 110.0 m\n",
      "Calculating for headway s[12]: 120.0 m\n",
      "Calculating for headway s[13]: 130.0 m\n",
      "Calculating for headway s[14]: 140.0 m\n",
      "Calculating for headway s[15]: 150.0 m\n",
      "Calculating for headway s[16]: 160.0 m\n",
      "Calculating for headway s[17]: 170.0 m\n",
      "Calculating for headway s[18]: 180.0 m\n",
      "Calculating for headway s[19]: 190.0 m\n",
      "Calculating for headway s[20]: 200.0 m\n"
     ]
    }
   ],
   "source": [
    "import math\n",
    "\n",
    "upsilon = 1.5  # m/s\n",
    "sigma = 30     # m\n",
    "\n",
    "# Assuming we have 50 rows from the data for testing purposes\n",
    "DV = data.dv.to_numpy()[:50]  # Convert 'dv' column to numpy array (first 50 measurements)\n",
    "S = data.s.to_numpy()[:50]    # Convert 's' column to numpy array (first 50 measurements)\n",
    "A = data.a.to_numpy()[:50] \n",
    "\n",
    "for i, s_grid_value in enumerate(s):  # Loop over headway 's' values\n",
    "    print(f\"Calculating for headway s[{i}]: {s_grid_value} m\")\n",
    "    for j, dv_grid_value in enumerate(dv):  # Loop over speed difference 'dv' values\n",
    "        \n",
    "        # Initialize weight and weighted acceleration sum\n",
    "        weighted_sum = 0\n",
    "        weight_total = 0\n",
    "        \n",
    "        # For each measurement, calculate its contribution to this grid point\n",
    "        for k in range(len(DV)):\n",
    "            # Calculate the 'distance' between grid points and measurement points\n",
    "            delta_dv = dv_grid_value - DV[k]\n",
    "            delta_s = s_grid_value - S[k]\n",
    "            \n",
    "            # Calculate the weights using the exponential function\n",
    "            weight_dv = math.exp(-(delta_dv ** 2) / (2 * upsilon ** 2))\n",
    "            weight_s = math.exp(-(delta_s ** 2) / (2 * sigma ** 2))\n",
    "            \n",
    "            # Combine the weights (product of weight_dv and weight_s)\n",
    "            weight = weight_dv * weight_s\n",
    "            \n",
    "            # Calculate weighted acceleration and accumulate\n",
    "            weighted_sum += weight * A[k]\n",
    "            weight_total += weight\n",
    "        \n",
    "        # Store the weighted mean acceleration value in the grid\n",
    "        if weight_total > 0:\n",
    "            a[i, j] = weighted_sum / weight_total  # Store the result in grid 'a'\n",
    "        else:\n",
    "            a[i, j] = 0  # Handle case where weights sum to zero (e.g., no close measurements)"
   ]
  },
  {
   "cell_type": "markdown",
   "id": "52cbac3a",
   "metadata": {},
   "source": [
    "The following code will plot the data for you. Does it make sense when considering:\n",
    "<ul>\n",
    "    <li>Negative (slower than leader) and positive (faster than leader) speed differences?</li>\n",
    "    <li>Small and large headways?</li>\n",
    "</ul>"
   ]
  },
  {
   "cell_type": "code",
   "execution_count": 10,
   "id": "168949b8",
   "metadata": {},
   "outputs": [
    {
     "data": {
      "image/png": "[encoded data removed]",
      "text/plain": [
       "<Figure size 1000x700 with 2 Axes>"
      ]
     },
     "metadata": {},
     "output_type": "display_data"
    }
   ],
   "source": [
    "X, Y = np.meshgrid(dv, s)\n",
    "axs = plt.axes()\n",
    "p = axs.pcolor(X, Y, a, shading='nearest')\n",
    "axs.set_title('Acceleration [m/s/s]')\n",
    "axs.set_xlabel('Speed difference [m/s]')\n",
    "axs.set_ylabel('Headway [m]')\n",
    "axs.figure.colorbar(p);\n",
    "axs.figure.set_size_inches(10, 7)"
   ]
  },
  {
   "cell_type": "code",
   "execution_count": null,
   "id": "b575708b",
   "metadata": {},
   "outputs": [],
   "source": []
  }
 ],
 "metadata": {
  "kernelspec": {
   "display_name": "Python 3 (ipykernel)",
   "language": "python",
   "name": "python3"
  },
  "language_info": {
   "codemirror_mode": {
    "name": "ipython",
    "version": 3
   },
   "file_extension": ".py",
   "mimetype": "text/x-python",
   "name": "python",
   "nbconvert_exporter": "python",
   "pygments_lexer": "ipython3",
   "version": "3.12.5"
  }
 },
 "nbformat": 4,
 "nbformat_minor": 5
}
